{
 "cells": [
  {
   "cell_type": "markdown",
   "id": "8fc2b16f-dc1d-42e6-9aae-9dc2e3dccaff",
   "metadata": {},
   "source": [
    "## US-accidents"
   ]
  },
  {
   "cell_type": "markdown",
   "id": "8a2d6187-edc2-4550-b711-7634bb039392",
   "metadata": {
    "tags": []
   },
   "source": [
    "Download the dataset on accidents in the US here:\n",
    "https://www.kaggle.com/datasets/sobhanmoosavi/us-accidents.\n",
    "\n",
    "Data description\n",
    "https://smoosavi.org/datasets/us_accidents\n",
    "\n"
   ]
  },
  {
   "cell_type": "markdown",
   "id": "ee9a3adc-086b-4e2d-9cf1-bceec1f09cb2",
   "metadata": {},
   "source": [
    "Done by- **Wurdruw Zurovast & Muksana Khatun**\n",
    " \n",
    "\n",
    "Date-23/10/2022"
   ]
  },
  {
   "cell_type": "markdown",
   "id": "491adf08-d587-4961-ab7b-ae1b353e394c",
   "metadata": {},
   "source": [
    "#### 0. Load packages"
   ]
  },
  {
   "cell_type": "code",
   "execution_count": 1,
   "id": "f385db90-cb48-4638-a906-2099cc3924f9",
   "metadata": {},
   "outputs": [],
   "source": [
    "import pandas as pd\n",
    "import matplotlib.pyplot as plt\n",
    "import seaborn as sns\n",
    "import numpy as np"
   ]
  },
  {
   "cell_type": "markdown",
   "id": "99e4cc02-a2f9-42d4-97d2-edade98dee45",
   "metadata": {},
   "source": [
    "#### 1. Load and inspect the data\n"
   ]
  },
  {
   "cell_type": "code",
   "execution_count": 45,
   "id": "84c69dbb-a24b-4417-80a5-6aef420b4406",
   "metadata": {},
   "outputs": [
    {
     "ename": "KeyError",
     "evalue": "('ID', 'Severity', 'Start_Time', 'End_Time', 'City', 'State', 'Street', 'Civil_Twilight', 'Visibility(mi)', 'Temperature(F)')",
     "output_type": "error",
     "traceback": [
      "\u001b[1;31m---------------------------------------------------------------------------\u001b[0m",
      "\u001b[1;31mKeyError\u001b[0m                                  Traceback (most recent call last)",
      "File \u001b[1;32m~\\anaconda3\\lib\\site-packages\\pandas\\core\\indexes\\base.py:3621\u001b[0m, in \u001b[0;36mIndex.get_loc\u001b[1;34m(self, key, method, tolerance)\u001b[0m\n\u001b[0;32m   3620\u001b[0m \u001b[38;5;28;01mtry\u001b[39;00m:\n\u001b[1;32m-> 3621\u001b[0m     \u001b[38;5;28;01mreturn\u001b[39;00m \u001b[38;5;28;43mself\u001b[39;49m\u001b[38;5;241;43m.\u001b[39;49m\u001b[43m_engine\u001b[49m\u001b[38;5;241;43m.\u001b[39;49m\u001b[43mget_loc\u001b[49m\u001b[43m(\u001b[49m\u001b[43mcasted_key\u001b[49m\u001b[43m)\u001b[49m\n\u001b[0;32m   3622\u001b[0m \u001b[38;5;28;01mexcept\u001b[39;00m \u001b[38;5;167;01mKeyError\u001b[39;00m \u001b[38;5;28;01mas\u001b[39;00m err:\n",
      "File \u001b[1;32m~\\anaconda3\\lib\\site-packages\\pandas\\_libs\\index.pyx:136\u001b[0m, in \u001b[0;36mpandas._libs.index.IndexEngine.get_loc\u001b[1;34m()\u001b[0m\n",
      "File \u001b[1;32m~\\anaconda3\\lib\\site-packages\\pandas\\_libs\\index.pyx:163\u001b[0m, in \u001b[0;36mpandas._libs.index.IndexEngine.get_loc\u001b[1;34m()\u001b[0m\n",
      "File \u001b[1;32mpandas\\_libs\\hashtable_class_helper.pxi:5198\u001b[0m, in \u001b[0;36mpandas._libs.hashtable.PyObjectHashTable.get_item\u001b[1;34m()\u001b[0m\n",
      "File \u001b[1;32mpandas\\_libs\\hashtable_class_helper.pxi:5206\u001b[0m, in \u001b[0;36mpandas._libs.hashtable.PyObjectHashTable.get_item\u001b[1;34m()\u001b[0m\n",
      "\u001b[1;31mKeyError\u001b[0m: ('ID', 'Severity', 'Start_Time', 'End_Time', 'City', 'State', 'Street', 'Civil_Twilight', 'Visibility(mi)', 'Temperature(F)')",
      "\nThe above exception was the direct cause of the following exception:\n",
      "\u001b[1;31mKeyError\u001b[0m                                  Traceback (most recent call last)",
      "Input \u001b[1;32mIn [45]\u001b[0m, in \u001b[0;36m<cell line: 6>\u001b[1;34m()\u001b[0m\n\u001b[0;32m      4\u001b[0m accidents \u001b[38;5;241m=\u001b[39m pd\u001b[38;5;241m.\u001b[39mread_csv(\u001b[38;5;124m\"\u001b[39m\u001b[38;5;124m2022-10-20-traffic-dataset-2-1-.csv\u001b[39m\u001b[38;5;124m\"\u001b[39m)\n\u001b[0;32m      5\u001b[0m \u001b[38;5;66;03m# Time\u001b[39;00m\n\u001b[1;32m----> 6\u001b[0m accident_time \u001b[38;5;241m=\u001b[39m \u001b[43maccidents\u001b[49m\u001b[43m[\u001b[49m\u001b[38;5;124;43m\"\u001b[39;49m\u001b[38;5;124;43mID\u001b[39;49m\u001b[38;5;124;43m\"\u001b[39;49m\u001b[43m,\u001b[49m\u001b[43m \u001b[49m\u001b[38;5;124;43m\"\u001b[39;49m\u001b[38;5;124;43mSeverity\u001b[39;49m\u001b[38;5;124;43m\"\u001b[39;49m\u001b[43m,\u001b[49m\u001b[43m \u001b[49m\u001b[38;5;124;43m\"\u001b[39;49m\u001b[38;5;124;43mStart_Time\u001b[39;49m\u001b[38;5;124;43m\"\u001b[39;49m\u001b[43m,\u001b[49m\u001b[43m \u001b[49m\u001b[38;5;124;43m\"\u001b[39;49m\u001b[38;5;124;43mEnd_Time\u001b[39;49m\u001b[38;5;124;43m\"\u001b[39;49m\u001b[43m,\u001b[49m\u001b[43m \u001b[49m\u001b[38;5;124;43m\"\u001b[39;49m\u001b[38;5;124;43mCity\u001b[39;49m\u001b[38;5;124;43m\"\u001b[39;49m\u001b[43m,\u001b[49m\u001b[43m \u001b[49m\u001b[38;5;124;43m\"\u001b[39;49m\u001b[38;5;124;43mState\u001b[39;49m\u001b[38;5;124;43m\"\u001b[39;49m\u001b[43m,\u001b[49m\u001b[43m \u001b[49m\n\u001b[0;32m      7\u001b[0m \u001b[38;5;124;43m\"\u001b[39;49m\u001b[38;5;124;43mStreet\u001b[39;49m\u001b[38;5;124;43m\"\u001b[39;49m\u001b[43m,\u001b[49m\u001b[43m \u001b[49m\u001b[38;5;124;43m\"\u001b[39;49m\u001b[38;5;124;43mCivil_Twilight\u001b[39;49m\u001b[38;5;124;43m\"\u001b[39;49m\u001b[43m,\u001b[49m\u001b[43m \u001b[49m\u001b[38;5;124;43m\"\u001b[39;49m\u001b[38;5;124;43mVisibility(mi)\u001b[39;49m\u001b[38;5;124;43m\"\u001b[39;49m\u001b[43m,\u001b[49m\u001b[43m \u001b[49m\u001b[38;5;124;43m\"\u001b[39;49m\u001b[38;5;124;43mTemperature(F)\u001b[39;49m\u001b[38;5;124;43m\"\u001b[39;49m\u001b[43m]\u001b[49m\n\u001b[0;32m      8\u001b[0m \u001b[38;5;66;03m# Weather         \u001b[39;00m\n\u001b[0;32m      9\u001b[0m accident_weather \u001b[38;5;241m=\u001b[39m accidents[\u001b[38;5;124m\"\u001b[39m\u001b[38;5;124mWeather_Condition\u001b[39m\u001b[38;5;124m\"\u001b[39m, \u001b[38;5;124m\"\u001b[39m\u001b[38;5;124mTemperature(F)\u001b[39m\u001b[38;5;124m\"\u001b[39m, \n\u001b[0;32m     10\u001b[0m \u001b[38;5;124m\"\u001b[39m\u001b[38;5;124mPrecipitation(in)\u001b[39m\u001b[38;5;124m\"\u001b[39m, \u001b[38;5;124m\"\u001b[39m\u001b[38;5;124mDistance(mi)\u001b[39m\u001b[38;5;124m\"\u001b[39m, \u001b[38;5;124m\"\u001b[39m\u001b[38;5;124mSide\u001b[39m\u001b[38;5;124m\"\u001b[39m, \u001b[38;5;124m\"\u001b[39m\u001b[38;5;124mSeverity\u001b[39m\u001b[38;5;124m\"\u001b[39m, \n\u001b[0;32m     11\u001b[0m \u001b[38;5;124m\"\u001b[39m\u001b[38;5;124mWind_Chill(F)\u001b[39m\u001b[38;5;124m\"\u001b[39m, \u001b[38;5;124m\"\u001b[39m\u001b[38;5;124mWind_Speed(mph)\u001b[39m\u001b[38;5;124m\"\u001b[39m, \u001b[38;5;124m\"\u001b[39m\u001b[38;5;124mPressure(in)\u001b[39m\u001b[38;5;124m\"\u001b[39m, \n\u001b[0;32m     12\u001b[0m \u001b[38;5;124m\"\u001b[39m\u001b[38;5;124mHumidity(\u001b[39m\u001b[38;5;124m%\u001b[39m\u001b[38;5;124m)\u001b[39m\u001b[38;5;124m\"\u001b[39m, \u001b[38;5;124m\"\u001b[39m\u001b[38;5;124mPrecipitation(in)\u001b[39m\u001b[38;5;124m\"\u001b[39m]\n",
      "File \u001b[1;32m~\\anaconda3\\lib\\site-packages\\pandas\\core\\frame.py:3505\u001b[0m, in \u001b[0;36mDataFrame.__getitem__\u001b[1;34m(self, key)\u001b[0m\n\u001b[0;32m   3503\u001b[0m \u001b[38;5;28;01mif\u001b[39;00m \u001b[38;5;28mself\u001b[39m\u001b[38;5;241m.\u001b[39mcolumns\u001b[38;5;241m.\u001b[39mnlevels \u001b[38;5;241m>\u001b[39m \u001b[38;5;241m1\u001b[39m:\n\u001b[0;32m   3504\u001b[0m     \u001b[38;5;28;01mreturn\u001b[39;00m \u001b[38;5;28mself\u001b[39m\u001b[38;5;241m.\u001b[39m_getitem_multilevel(key)\n\u001b[1;32m-> 3505\u001b[0m indexer \u001b[38;5;241m=\u001b[39m \u001b[38;5;28;43mself\u001b[39;49m\u001b[38;5;241;43m.\u001b[39;49m\u001b[43mcolumns\u001b[49m\u001b[38;5;241;43m.\u001b[39;49m\u001b[43mget_loc\u001b[49m\u001b[43m(\u001b[49m\u001b[43mkey\u001b[49m\u001b[43m)\u001b[49m\n\u001b[0;32m   3506\u001b[0m \u001b[38;5;28;01mif\u001b[39;00m is_integer(indexer):\n\u001b[0;32m   3507\u001b[0m     indexer \u001b[38;5;241m=\u001b[39m [indexer]\n",
      "File \u001b[1;32m~\\anaconda3\\lib\\site-packages\\pandas\\core\\indexes\\base.py:3623\u001b[0m, in \u001b[0;36mIndex.get_loc\u001b[1;34m(self, key, method, tolerance)\u001b[0m\n\u001b[0;32m   3621\u001b[0m     \u001b[38;5;28;01mreturn\u001b[39;00m \u001b[38;5;28mself\u001b[39m\u001b[38;5;241m.\u001b[39m_engine\u001b[38;5;241m.\u001b[39mget_loc(casted_key)\n\u001b[0;32m   3622\u001b[0m \u001b[38;5;28;01mexcept\u001b[39;00m \u001b[38;5;167;01mKeyError\u001b[39;00m \u001b[38;5;28;01mas\u001b[39;00m err:\n\u001b[1;32m-> 3623\u001b[0m     \u001b[38;5;28;01mraise\u001b[39;00m \u001b[38;5;167;01mKeyError\u001b[39;00m(key) \u001b[38;5;28;01mfrom\u001b[39;00m \u001b[38;5;21;01merr\u001b[39;00m\n\u001b[0;32m   3624\u001b[0m \u001b[38;5;28;01mexcept\u001b[39;00m \u001b[38;5;167;01mTypeError\u001b[39;00m:\n\u001b[0;32m   3625\u001b[0m     \u001b[38;5;66;03m# If we have a listlike key, _check_indexing_error will raise\u001b[39;00m\n\u001b[0;32m   3626\u001b[0m     \u001b[38;5;66;03m#  InvalidIndexError. Otherwise we fall through and re-raise\u001b[39;00m\n\u001b[0;32m   3627\u001b[0m     \u001b[38;5;66;03m#  the TypeError.\u001b[39;00m\n\u001b[0;32m   3628\u001b[0m     \u001b[38;5;28mself\u001b[39m\u001b[38;5;241m.\u001b[39m_check_indexing_error(key)\n",
      "\u001b[1;31mKeyError\u001b[0m: ('ID', 'Severity', 'Start_Time', 'End_Time', 'City', 'State', 'Street', 'Civil_Twilight', 'Visibility(mi)', 'Temperature(F)')"
     ]
    }
   ],
   "source": [
    "# Muksana's filename accidents = pd.read_csv('US_Accidents_Dec21_updated.csv')\n",
    "# I use the second copy of a dataset for work to prevent overwriting data.\n",
    "# Zurovast's filename\n",
    "accidents = pd.read_csv(\"2022-10-20-traffic-dataset-2-1-.csv\")\n",
    "# Time\n",
    "accident_time = accidents[\"ID\", \"Severity\", \"Start_Time\", \"End_Time\", \"City\", \"State\", \n",
    "\"Street\", \"Civil_Twilight\", \"Visibility(mi)\", \"Temperature(F)\"]\n",
    "# Weather         \n",
    "accident_weather = accidents[\"Weather_Condition\", \"Temperature(F)\", \n",
    "\"Precipitation(in)\", \"Distance(mi)\", \"Side\", \"Severity\", \n",
    "\"Wind_Chill(F)\", \"Wind_Speed(mph)\", \"Pressure(in)\", \n",
    "\"Humidity(%)\", \"Precipitation(in)\"]"
   ]
  },
  {
   "cell_type": "code",
   "execution_count": 3,
   "id": "0d0e5fd1-f724-40be-b349-fb7f89b1a4e3",
   "metadata": {
    "tags": []
   },
   "outputs": [
    {
     "data": {
      "text/html": [
       "<div>\n",
       "<style scoped>\n",
       "    .dataframe tbody tr th:only-of-type {\n",
       "        vertical-align: middle;\n",
       "    }\n",
       "\n",
       "    .dataframe tbody tr th {\n",
       "        vertical-align: top;\n",
       "    }\n",
       "\n",
       "    .dataframe thead th {\n",
       "        text-align: right;\n",
       "    }\n",
       "</style>\n",
       "<table border=\"1\" class=\"dataframe\">\n",
       "  <thead>\n",
       "    <tr style=\"text-align: right;\">\n",
       "      <th></th>\n",
       "      <th>ID</th>\n",
       "      <th>Severity</th>\n",
       "      <th>Start_Time</th>\n",
       "      <th>End_Time</th>\n",
       "      <th>Distance(mi)</th>\n",
       "      <th>Street</th>\n",
       "      <th>Side</th>\n",
       "      <th>City</th>\n",
       "      <th>State</th>\n",
       "      <th>Temperature(F)</th>\n",
       "      <th>Visibility(mi)</th>\n",
       "      <th>Precipitation(in)</th>\n",
       "      <th>Weather_Condition</th>\n",
       "      <th>Civil_Twilight</th>\n",
       "    </tr>\n",
       "  </thead>\n",
       "  <tbody>\n",
       "    <tr>\n",
       "      <th>0</th>\n",
       "      <td>A-1</td>\n",
       "      <td>3</td>\n",
       "      <td>2016-02-08 00:37:08</td>\n",
       "      <td>2016-02-08 06:37:08</td>\n",
       "      <td>3.230</td>\n",
       "      <td>Outerbelt E</td>\n",
       "      <td>R</td>\n",
       "      <td>Dublin</td>\n",
       "      <td>OH</td>\n",
       "      <td>42.1</td>\n",
       "      <td>10.0</td>\n",
       "      <td>0.00</td>\n",
       "      <td>Light Rain</td>\n",
       "      <td>Night</td>\n",
       "    </tr>\n",
       "    <tr>\n",
       "      <th>1</th>\n",
       "      <td>A-2</td>\n",
       "      <td>2</td>\n",
       "      <td>2016-02-08 05:56:20</td>\n",
       "      <td>2016-02-08 11:56:20</td>\n",
       "      <td>0.747</td>\n",
       "      <td>I-70 E</td>\n",
       "      <td>R</td>\n",
       "      <td>Dayton</td>\n",
       "      <td>OH</td>\n",
       "      <td>36.9</td>\n",
       "      <td>10.0</td>\n",
       "      <td>0.02</td>\n",
       "      <td>Light Rain</td>\n",
       "      <td>Night</td>\n",
       "    </tr>\n",
       "    <tr>\n",
       "      <th>2</th>\n",
       "      <td>A-3</td>\n",
       "      <td>2</td>\n",
       "      <td>2016-02-08 06:15:39</td>\n",
       "      <td>2016-02-08 12:15:39</td>\n",
       "      <td>0.055</td>\n",
       "      <td>I-75 S</td>\n",
       "      <td>R</td>\n",
       "      <td>Cincinnati</td>\n",
       "      <td>OH</td>\n",
       "      <td>36.0</td>\n",
       "      <td>10.0</td>\n",
       "      <td>0.02</td>\n",
       "      <td>Overcast</td>\n",
       "      <td>Night</td>\n",
       "    </tr>\n",
       "    <tr>\n",
       "      <th>3</th>\n",
       "      <td>A-4</td>\n",
       "      <td>2</td>\n",
       "      <td>2016-02-08 06:51:45</td>\n",
       "      <td>2016-02-08 12:51:45</td>\n",
       "      <td>0.123</td>\n",
       "      <td>I-77 N</td>\n",
       "      <td>R</td>\n",
       "      <td>Akron</td>\n",
       "      <td>OH</td>\n",
       "      <td>39.0</td>\n",
       "      <td>10.0</td>\n",
       "      <td>NaN</td>\n",
       "      <td>Overcast</td>\n",
       "      <td>Night</td>\n",
       "    </tr>\n",
       "    <tr>\n",
       "      <th>4</th>\n",
       "      <td>A-5</td>\n",
       "      <td>3</td>\n",
       "      <td>2016-02-08 07:53:43</td>\n",
       "      <td>2016-02-08 13:53:43</td>\n",
       "      <td>0.500</td>\n",
       "      <td>I-75 S</td>\n",
       "      <td>R</td>\n",
       "      <td>Cincinnati</td>\n",
       "      <td>OH</td>\n",
       "      <td>37.0</td>\n",
       "      <td>10.0</td>\n",
       "      <td>0.01</td>\n",
       "      <td>Light Rain</td>\n",
       "      <td>Day</td>\n",
       "    </tr>\n",
       "  </tbody>\n",
       "</table>\n",
       "</div>"
      ],
      "text/plain": [
       "    ID  Severity           Start_Time             End_Time  Distance(mi)  \\\n",
       "0  A-1         3  2016-02-08 00:37:08  2016-02-08 06:37:08         3.230   \n",
       "1  A-2         2  2016-02-08 05:56:20  2016-02-08 11:56:20         0.747   \n",
       "2  A-3         2  2016-02-08 06:15:39  2016-02-08 12:15:39         0.055   \n",
       "3  A-4         2  2016-02-08 06:51:45  2016-02-08 12:51:45         0.123   \n",
       "4  A-5         3  2016-02-08 07:53:43  2016-02-08 13:53:43         0.500   \n",
       "\n",
       "        Street Side        City State  Temperature(F)  Visibility(mi)  \\\n",
       "0  Outerbelt E    R      Dublin    OH            42.1            10.0   \n",
       "1       I-70 E    R      Dayton    OH            36.9            10.0   \n",
       "2       I-75 S    R  Cincinnati    OH            36.0            10.0   \n",
       "3       I-77 N    R       Akron    OH            39.0            10.0   \n",
       "4       I-75 S    R  Cincinnati    OH            37.0            10.0   \n",
       "\n",
       "   Precipitation(in) Weather_Condition Civil_Twilight  \n",
       "0               0.00        Light Rain          Night  \n",
       "1               0.02        Light Rain          Night  \n",
       "2               0.02          Overcast          Night  \n",
       "3                NaN          Overcast          Night  \n",
       "4               0.01        Light Rain            Day  "
      ]
     },
     "execution_count": 3,
     "metadata": {},
     "output_type": "execute_result"
    }
   ],
   "source": [
    "accidents.head(5)"
   ]
  },
  {
   "cell_type": "code",
   "execution_count": 4,
   "id": "0600bf69-fda7-413d-823a-011c0493b4c6",
   "metadata": {
    "tags": []
   },
   "outputs": [
    {
     "data": {
      "text/html": [
       "<div>\n",
       "<style scoped>\n",
       "    .dataframe tbody tr th:only-of-type {\n",
       "        vertical-align: middle;\n",
       "    }\n",
       "\n",
       "    .dataframe tbody tr th {\n",
       "        vertical-align: top;\n",
       "    }\n",
       "\n",
       "    .dataframe thead th {\n",
       "        text-align: right;\n",
       "    }\n",
       "</style>\n",
       "<table border=\"1\" class=\"dataframe\">\n",
       "  <thead>\n",
       "    <tr style=\"text-align: right;\">\n",
       "      <th></th>\n",
       "      <th>Severity</th>\n",
       "      <th>Distance(mi)</th>\n",
       "      <th>Temperature(F)</th>\n",
       "      <th>Visibility(mi)</th>\n",
       "      <th>Precipitation(in)</th>\n",
       "    </tr>\n",
       "  </thead>\n",
       "  <tbody>\n",
       "    <tr>\n",
       "      <th>count</th>\n",
       "      <td>2.845342e+06</td>\n",
       "      <td>2.845342e+06</td>\n",
       "      <td>2.776068e+06</td>\n",
       "      <td>2.774796e+06</td>\n",
       "      <td>2.295884e+06</td>\n",
       "    </tr>\n",
       "    <tr>\n",
       "      <th>mean</th>\n",
       "      <td>2.137572e+00</td>\n",
       "      <td>7.026779e-01</td>\n",
       "      <td>6.179356e+01</td>\n",
       "      <td>9.099391e+00</td>\n",
       "      <td>7.016940e-03</td>\n",
       "    </tr>\n",
       "    <tr>\n",
       "      <th>std</th>\n",
       "      <td>4.787216e-01</td>\n",
       "      <td>1.560361e+00</td>\n",
       "      <td>1.862263e+01</td>\n",
       "      <td>2.717546e+00</td>\n",
       "      <td>9.348831e-02</td>\n",
       "    </tr>\n",
       "    <tr>\n",
       "      <th>min</th>\n",
       "      <td>1.000000e+00</td>\n",
       "      <td>0.000000e+00</td>\n",
       "      <td>-8.900000e+01</td>\n",
       "      <td>0.000000e+00</td>\n",
       "      <td>0.000000e+00</td>\n",
       "    </tr>\n",
       "    <tr>\n",
       "      <th>25%</th>\n",
       "      <td>2.000000e+00</td>\n",
       "      <td>5.200000e-02</td>\n",
       "      <td>5.000000e+01</td>\n",
       "      <td>1.000000e+01</td>\n",
       "      <td>0.000000e+00</td>\n",
       "    </tr>\n",
       "    <tr>\n",
       "      <th>50%</th>\n",
       "      <td>2.000000e+00</td>\n",
       "      <td>2.440000e-01</td>\n",
       "      <td>6.400000e+01</td>\n",
       "      <td>1.000000e+01</td>\n",
       "      <td>0.000000e+00</td>\n",
       "    </tr>\n",
       "    <tr>\n",
       "      <th>75%</th>\n",
       "      <td>2.000000e+00</td>\n",
       "      <td>7.640000e-01</td>\n",
       "      <td>7.600000e+01</td>\n",
       "      <td>1.000000e+01</td>\n",
       "      <td>0.000000e+00</td>\n",
       "    </tr>\n",
       "    <tr>\n",
       "      <th>max</th>\n",
       "      <td>4.000000e+00</td>\n",
       "      <td>1.551860e+02</td>\n",
       "      <td>1.960000e+02</td>\n",
       "      <td>1.400000e+02</td>\n",
       "      <td>2.400000e+01</td>\n",
       "    </tr>\n",
       "  </tbody>\n",
       "</table>\n",
       "</div>"
      ],
      "text/plain": [
       "           Severity  Distance(mi)  Temperature(F)  Visibility(mi)  \\\n",
       "count  2.845342e+06  2.845342e+06    2.776068e+06    2.774796e+06   \n",
       "mean   2.137572e+00  7.026779e-01    6.179356e+01    9.099391e+00   \n",
       "std    4.787216e-01  1.560361e+00    1.862263e+01    2.717546e+00   \n",
       "min    1.000000e+00  0.000000e+00   -8.900000e+01    0.000000e+00   \n",
       "25%    2.000000e+00  5.200000e-02    5.000000e+01    1.000000e+01   \n",
       "50%    2.000000e+00  2.440000e-01    6.400000e+01    1.000000e+01   \n",
       "75%    2.000000e+00  7.640000e-01    7.600000e+01    1.000000e+01   \n",
       "max    4.000000e+00  1.551860e+02    1.960000e+02    1.400000e+02   \n",
       "\n",
       "       Precipitation(in)  \n",
       "count       2.295884e+06  \n",
       "mean        7.016940e-03  \n",
       "std         9.348831e-02  \n",
       "min         0.000000e+00  \n",
       "25%         0.000000e+00  \n",
       "50%         0.000000e+00  \n",
       "75%         0.000000e+00  \n",
       "max         2.400000e+01  "
      ]
     },
     "execution_count": 4,
     "metadata": {},
     "output_type": "execute_result"
    }
   ],
   "source": [
    "accidents.describe()"
   ]
  },
  {
   "cell_type": "code",
   "execution_count": 5,
   "id": "2266520d-8f4a-4770-901b-3be742bea11a",
   "metadata": {
    "tags": []
   },
   "outputs": [
    {
     "name": "stdout",
     "output_type": "stream",
     "text": [
      "<class 'pandas.core.frame.DataFrame'>\n",
      "RangeIndex: 2845342 entries, 0 to 2845341\n",
      "Data columns (total 14 columns):\n",
      " #   Column             Dtype  \n",
      "---  ------             -----  \n",
      " 0   ID                 object \n",
      " 1   Severity           int64  \n",
      " 2   Start_Time         object \n",
      " 3   End_Time           object \n",
      " 4   Distance(mi)       float64\n",
      " 5   Street             object \n",
      " 6   Side               object \n",
      " 7   City               object \n",
      " 8   State              object \n",
      " 9   Temperature(F)     float64\n",
      " 10  Visibility(mi)     float64\n",
      " 11  Precipitation(in)  float64\n",
      " 12  Weather_Condition  object \n",
      " 13  Civil_Twilight     object \n",
      "dtypes: float64(4), int64(1), object(9)\n",
      "memory usage: 303.9+ MB\n"
     ]
    }
   ],
   "source": [
    "accidents.info()"
   ]
  },
  {
   "cell_type": "code",
   "execution_count": 6,
   "id": "15f9042a-d795-40d5-857d-b8d490a08462",
   "metadata": {
    "tags": []
   },
   "outputs": [
    {
     "data": {
      "image/png": "[encoded data removed]",
      "text/plain": [
       "<Figure size 1224x1080 with 2 Axes>"
      ]
     },
     "metadata": {
      "needs_background": "light"
     },
     "output_type": "display_data"
    }
   ],
   "source": [
    "plt.figure(figsize=(17, 15))\n",
    "heatmap = sns.heatmap(accidents.corr(), vmin=-1, vmax=1, annot=True, cmap='BrBG')\n",
    "heatmap.set_title('Correlation Heatmap')\n",
    "plt.show()"
   ]
  },
  {
   "cell_type": "code",
   "execution_count": 7,
   "id": "893a7810-fee1-4c3c-b290-3b16bc218ae1",
   "metadata": {},
   "outputs": [
    {
     "data": {
      "text/plain": [
       "Temperature(F)      -0.045335\n",
       "Visibility(mi)       0.007371\n",
       "Precipitation(in)    0.013845\n",
       "Distance(mi)         0.092140\n",
       "Severity             1.000000\n",
       "Name: Severity, dtype: float64"
      ]
     },
     "execution_count": 7,
     "metadata": {},
     "output_type": "execute_result"
    }
   ],
   "source": [
    "accidents.corr()['Severity'].sort_values()"
   ]
  },
  {
   "cell_type": "markdown",
   "id": "d463436f-9411-4326-9a3f-a84534fda1e8",
   "metadata": {},
   "source": [
    "#### 2. Data cleaning and manipulation\n"
   ]
  },
  {
   "cell_type": "code",
   "execution_count": 8,
   "id": "f22114ea-0757-4a86-8ba3-645010b7757b",
   "metadata": {
    "tags": []
   },
   "outputs": [
    {
     "data": {
      "text/plain": [
       "ID                        0\n",
       "Severity                  0\n",
       "Start_Time                0\n",
       "End_Time                  0\n",
       "Distance(mi)              0\n",
       "Street                    2\n",
       "Side                      0\n",
       "City                    137\n",
       "State                     0\n",
       "Temperature(F)        69274\n",
       "Visibility(mi)        70546\n",
       "Precipitation(in)    549458\n",
       "Weather_Condition     70636\n",
       "Civil_Twilight         2867\n",
       "dtype: int64"
      ]
     },
     "execution_count": 8,
     "metadata": {},
     "output_type": "execute_result"
    }
   ],
   "source": [
    "accidents.isnull().sum(axis = 0)"
   ]
  },
  {
   "cell_type": "code",
   "execution_count": 9,
   "id": "3b04ec5e-7237-4016-bd0e-7f663b1451a1",
   "metadata": {
    "tags": []
   },
   "outputs": [
    {
     "data": {
      "text/plain": [
       "ID                    0.00\n",
       "Severity              0.00\n",
       "Start_Time            0.00\n",
       "End_Time              0.00\n",
       "Distance(mi)          0.00\n",
       "Street                0.00\n",
       "Side                  0.00\n",
       "City                  0.00\n",
       "State                 0.00\n",
       "Temperature(F)        2.43\n",
       "Visibility(mi)        2.48\n",
       "Precipitation(in)    19.31\n",
       "Weather_Condition     2.48\n",
       "Civil_Twilight        0.10\n",
       "dtype: float64"
      ]
     },
     "execution_count": 9,
     "metadata": {},
     "output_type": "execute_result"
    }
   ],
   "source": [
    "round(accidents.isnull().sum() / accidents.shape[0] * 100.00,2)"
   ]
  },
  {
   "cell_type": "code",
   "execution_count": 10,
   "id": "d3eaccb3-1770-4ffe-b078-90e670410857",
   "metadata": {},
   "outputs": [],
   "source": [
    "null_accidents = pd.DataFrame((accidents.isnull().sum())*100/accidents.shape[0]).reset_index()\n",
    "null_accidents.columns = ['Column Name', 'Null Values Percentage']"
   ]
  },
  {
   "cell_type": "code",
   "execution_count": 11,
   "id": "88d1c477-8870-4b2f-a770-d62ec2c055b9",
   "metadata": {
    "tags": []
   },
   "outputs": [
    {
     "data": {
      "image/png": "[encoded data removed]",
      "text/plain": [
       "<Figure size 1080x432 with 1 Axes>"
      ]
     },
     "metadata": {
      "needs_background": "light"
     },
     "output_type": "display_data"
    }
   ],
   "source": [
    "fig = plt.figure(figsize=(15,6))\n",
    "ax = sns.pointplot(x=\"Column Name\",y=\"Null Values Percentage\",\n",
    "                   data=null_accidents,color='blue')\n",
    "sns.set_theme(style=\"darkgrid\")\n",
    "plt.xticks(rotation =90,fontsize =7)\n",
    "ax.axhline(20, ls='--',color='red')\n",
    "plt.title(\"Percentage of Missing values in application data\")\n",
    "plt.ylabel(\"Null Values PERCENTAGE\")\n",
    "plt.xlabel(\"COLUMNS\")\n",
    "plt.show()"
   ]
  },
  {
   "cell_type": "code",
   "execution_count": 12,
   "id": "22a1143f-1625-418e-94e3-1ee2c97efc6e",
   "metadata": {},
   "outputs": [
    {
     "data": {
      "text/html": [
       "<div>\n",
       "<style scoped>\n",
       "    .dataframe tbody tr th:only-of-type {\n",
       "        vertical-align: middle;\n",
       "    }\n",
       "\n",
       "    .dataframe tbody tr th {\n",
       "        vertical-align: top;\n",
       "    }\n",
       "\n",
       "    .dataframe thead th {\n",
       "        text-align: right;\n",
       "    }\n",
       "</style>\n",
       "<table border=\"1\" class=\"dataframe\">\n",
       "  <thead>\n",
       "    <tr style=\"text-align: right;\">\n",
       "      <th></th>\n",
       "      <th>Column Name</th>\n",
       "      <th>Null Values Percentage</th>\n",
       "    </tr>\n",
       "  </thead>\n",
       "  <tbody>\n",
       "  </tbody>\n",
       "</table>\n",
       "</div>"
      ],
      "text/plain": [
       "Empty DataFrame\n",
       "Columns: [Column Name, Null Values Percentage]\n",
       "Index: []"
      ]
     },
     "execution_count": 12,
     "metadata": {},
     "output_type": "execute_result"
    }
   ],
   "source": [
    "nullcol_20_accident = null_accidents[null_accidents[\"Null Values Percentage\"]>=20]\n",
    "nullcol_20_accident"
   ]
  },
  {
   "cell_type": "markdown",
   "id": "3f552369-e502-4ccb-a5c0-fa65836210c6",
   "metadata": {},
   "source": [
    "#### 3.Analysis"
   ]
  },
  {
   "cell_type": "code",
   "execution_count": 46,
   "id": "bbbd7d9d-0444-4aa2-be96-16d1229d09f4",
   "metadata": {},
   "outputs": [
    {
     "data": {
      "image/png": "[encoded data removed]",
      "text/plain": [
       "<Figure size 432x288 with 1 Axes>"
      ]
     },
     "metadata": {},
     "output_type": "display_data"
    }
   ],
   "source": [
    "sns.histplot(data=accident_time, x='Severity')\n",
    "plt.show()"
   ]
  },
  {
   "cell_type": "code",
   "execution_count": 47,
   "id": "dbd0d48a-b637-4103-926c-3af149035c2d",
   "metadata": {},
   "outputs": [
    {
     "data": {
      "text/plain": [
       "2    2532991\n",
       "3     155105\n",
       "4     131193\n",
       "1      26053\n",
       "Name: Severity, dtype: int64"
      ]
     },
     "execution_count": 47,
     "metadata": {},
     "output_type": "execute_result"
    }
   ],
   "source": [
    "accident_time.Severity.value_counts()"
   ]
  },
  {
   "cell_type": "code",
   "execution_count": 48,
   "id": "7713019c-4520-49ee-8e25-e9d6826d8da7",
   "metadata": {},
   "outputs": [],
   "source": [
    "sev_2 = accident_time.loc[accidents[\"Severity\"] == 2]"
   ]
  },
  {
   "cell_type": "code",
   "execution_count": 16,
   "id": "ec6ae04b-648a-4f24-b601-4ca2d9305db0",
   "metadata": {},
   "outputs": [],
   "source": [
    "# sev_2.info()"
   ]
  },
  {
   "cell_type": "code",
   "execution_count": 17,
   "id": "ecf11ba5-e045-435d-8933-541dca86c27b",
   "metadata": {},
   "outputs": [],
   "source": [
    "# 2,532,991 Severity 2 accidents.\n",
    "# sev_2.nunique()"
   ]
  },
  {
   "cell_type": "code",
   "execution_count": 18,
   "id": "09dc867d-216f-416f-8373-6f345b0c7a9a",
   "metadata": {},
   "outputs": [
    {
     "data": {
      "text/html": [
       "<div>\n",
       "<style scoped>\n",
       "    .dataframe tbody tr th:only-of-type {\n",
       "        vertical-align: middle;\n",
       "    }\n",
       "\n",
       "    .dataframe tbody tr th {\n",
       "        vertical-align: top;\n",
       "    }\n",
       "\n",
       "    .dataframe thead th {\n",
       "        text-align: right;\n",
       "    }\n",
       "</style>\n",
       "<table border=\"1\" class=\"dataframe\">\n",
       "  <thead>\n",
       "    <tr style=\"text-align: right;\">\n",
       "      <th></th>\n",
       "      <th>Civil_Twilight</th>\n",
       "      <th>Start_Time</th>\n",
       "      <th>Street</th>\n",
       "      <th>Weather_Condition</th>\n",
       "    </tr>\n",
       "  </thead>\n",
       "  <tbody>\n",
       "    <tr>\n",
       "      <th>1057827</th>\n",
       "      <td>Night</td>\n",
       "      <td>2021-04-28 02:00:00</td>\n",
       "      <td>I-5 N</td>\n",
       "      <td>Fair</td>\n",
       "    </tr>\n",
       "  </tbody>\n",
       "</table>\n",
       "</div>"
      ],
      "text/plain": [
       "        Civil_Twilight           Start_Time Street Weather_Condition\n",
       "1057827          Night  2021-04-28 02:00:00  I-5 N              Fair"
      ]
     },
     "execution_count": 18,
     "metadata": {},
     "output_type": "execute_result"
    }
   ],
   "source": [
    "# Viewing the data for sev_2.\n",
    "sev_2[[\"Civil_Twilight\", \"Start_Time\", \"Street\", \"Weather_Condition\"]].sample()"
   ]
  },
  {
   "cell_type": "markdown",
   "id": "d97073f4-21ef-4bb9-9c08-e8ff890d912c",
   "metadata": {},
   "source": [
    "##### Time of day"
   ]
  },
  {
   "cell_type": "code",
   "execution_count": 19,
   "id": "62fd8574-3731-4da0-8d13-fff93c4a50f7",
   "metadata": {},
   "outputs": [
    {
     "data": {
      "text/plain": [
       "pandas.core.series.Series"
      ]
     },
     "execution_count": 19,
     "metadata": {},
     "output_type": "execute_result"
    }
   ],
   "source": [
    "type(sev_2[\"Start_Time\"])"
   ]
  },
  {
   "cell_type": "code",
   "execution_count": 20,
   "id": "da0cf9c4-c5e2-4aa9-b882-ad9a91793565",
   "metadata": {},
   "outputs": [
    {
     "data": {
      "text/plain": [
       "Day      1711077\n",
       "Night     819542\n",
       "Name: Civil_Twilight, dtype: int64"
      ]
     },
     "execution_count": 20,
     "metadata": {},
     "output_type": "execute_result"
    }
   ],
   "source": [
    "sev_2.Civil_Twilight.value_counts()"
   ]
  },
  {
   "cell_type": "code",
   "execution_count": 21,
   "id": "aefe1f72-970c-40b7-9687-4f5ffc86d114",
   "metadata": {
    "tags": []
   },
   "outputs": [
    {
     "data": {
      "text/plain": [
       "Day      67.614959\n",
       "Night    32.385041\n",
       "Name: Civil_Twilight, dtype: float64"
      ]
     },
     "execution_count": 21,
     "metadata": {},
     "output_type": "execute_result"
    }
   ],
   "source": [
    "# 2/3 of accidents occur in daylight hours.\n",
    "sev_2.Civil_Twilight.value_counts(normalize=True)*100"
   ]
  },
  {
   "cell_type": "code",
   "execution_count": 22,
   "id": "5eb5a57f-1b31-43d6-85ef-1a6765c6275a",
   "metadata": {},
   "outputs": [
    {
     "data": {
      "text/plain": [
       "Text(0.5, 1.0, 'Number of cases by severity and time')"
      ]
     },
     "execution_count": 22,
     "metadata": {},
     "output_type": "execute_result"
    },
    {
     "data": {
      "image/png": "[encoded data removed]",
      "text/plain": [
       "<Figure size 432x288 with 1 Axes>"
      ]
     },
     "metadata": {},
     "output_type": "display_data"
    }
   ],
   "source": [
    "sns.countplot(data=accidents, x=\"Civil_Twilight\", hue=\"Severity\")\n",
    "plt.title(\"Number of cases by severity and time\")"
   ]
  },
  {
   "cell_type": "code",
   "execution_count": 23,
   "id": "900384a0-0506-4388-82d4-0cf11bb819c6",
   "metadata": {},
   "outputs": [
    {
     "data": {
      "text/plain": [
       "Civil_Twilight  Severity\n",
       "Day             2           89.0\n",
       "                3            6.0\n",
       "                4            4.0\n",
       "                1            1.0\n",
       "Night           2           90.0\n",
       "                4            5.0\n",
       "                3            5.0\n",
       "                1            0.0\n",
       "Name: Severity, dtype: float64"
      ]
     },
     "execution_count": 23,
     "metadata": {},
     "output_type": "execute_result"
    }
   ],
   "source": [
    "# The breakdown of severity is similar from day to night.\n",
    "    # Nighttime accidents slow down traffic for longer \n",
    "    # with more Severity 4 than 3 and 0.8% less Severity 1.\n",
    "round(accidents.groupby(\"Civil_Twilight\")[\"Severity\"].value_counts(normalize=True)*100, 0)"
   ]
  },
  {
   "cell_type": "code",
   "execution_count": 24,
   "id": "95fc2184-a289-4872-9936-9313ea84bfbd",
   "metadata": {
    "tags": []
   },
   "outputs": [
    {
     "name": "stderr",
     "output_type": "stream",
     "text": [
      "C:\\Users\\cryst\\AppData\\Local\\Temp\\ipykernel_21324\\853571900.py:1: SettingWithCopyWarning: \n",
      "A value is trying to be set on a copy of a slice from a DataFrame.\n",
      "Try using .loc[row_indexer,col_indexer] = value instead\n",
      "\n",
      "See the caveats in the documentation: https://pandas.pydata.org/pandas-docs/stable/user_guide/indexing.html#returning-a-view-versus-a-copy\n",
      "  sev_2.Start_Time = pd.to_datetime(sev_2.Start_Time)\n",
      "C:\\Users\\cryst\\AppData\\Local\\Temp\\ipykernel_21324\\853571900.py:2: SettingWithCopyWarning: \n",
      "A value is trying to be set on a copy of a slice from a DataFrame.\n",
      "Try using .loc[row_indexer,col_indexer] = value instead\n",
      "\n",
      "See the caveats in the documentation: https://pandas.pydata.org/pandas-docs/stable/user_guide/indexing.html#returning-a-view-versus-a-copy\n",
      "  sev_2.End_Time = pd.to_datetime(sev_2.End_Time)\n"
     ]
    }
   ],
   "source": [
    "sev_2.Start_Time = pd.to_datetime(sev_2.Start_Time)\n",
    "sev_2.End_Time = pd.to_datetime(sev_2.End_Time)"
   ]
  },
  {
   "cell_type": "code",
   "execution_count": 25,
   "id": "5dea00b4-26f4-4a99-a70a-788d7d97819b",
   "metadata": {},
   "outputs": [
    {
     "data": {
      "text/plain": [
       "ID                    object\n",
       "Severity               int64\n",
       "Start_Time    datetime64[ns]\n",
       "End_Time      datetime64[ns]\n",
       "dtype: object"
      ]
     },
     "execution_count": 25,
     "metadata": {},
     "output_type": "execute_result"
    }
   ],
   "source": [
    "sev_2.dtypes.head(4)\n",
    "# Type check after conversion"
   ]
  },
  {
   "cell_type": "code",
   "execution_count": 26,
   "id": "406dc362-081a-49bb-bd28-a6a337a3d26a",
   "metadata": {
    "tags": []
   },
   "outputs": [
    {
     "name": "stderr",
     "output_type": "stream",
     "text": [
      "C:\\Users\\cryst\\AppData\\Local\\Temp\\ipykernel_21324\\4171050302.py:1: SettingWithCopyWarning: \n",
      "A value is trying to be set on a copy of a slice from a DataFrame.\n",
      "Try using .loc[row_indexer,col_indexer] = value instead\n",
      "\n",
      "See the caveats in the documentation: https://pandas.pydata.org/pandas-docs/stable/user_guide/indexing.html#returning-a-view-versus-a-copy\n",
      "  sev_2[\"Start_Hour\"] = sev_2.Start_Time.dt.hour\n"
     ]
    }
   ],
   "source": [
    "sev_2[\"Start_Hour\"] = sev_2.Start_Time.dt.hour"
   ]
  },
  {
   "cell_type": "code",
   "execution_count": 27,
   "id": "4487bd65-a62e-4605-b70f-898655128ca6",
   "metadata": {},
   "outputs": [
    {
     "data": {
      "text/plain": [
       "24"
      ]
     },
     "execution_count": 27,
     "metadata": {},
     "output_type": "execute_result"
    }
   ],
   "source": [
    "sev_2[\"Start_Hour\"].nunique()"
   ]
  },
  {
   "cell_type": "code",
   "execution_count": 28,
   "id": "917653e9-bc52-47e8-bb9c-714834e577de",
   "metadata": {},
   "outputs": [
    {
     "data": {
      "image/png": "[encoded data removed]",
      "text/plain": [
       "<Figure size 432x288 with 1 Axes>"
      ]
     },
     "metadata": {},
     "output_type": "display_data"
    }
   ],
   "source": [
    "sns.histplot(data=sev_2, x= \"Start_Hour\")\n",
    "plt.show()\n",
    "# sns.histplot(data=sev_2, x= sev_2[\"Start_Hour\"]) Above, forgot \"."
   ]
  },
  {
   "cell_type": "code",
   "execution_count": 29,
   "id": "c03abea0-81cb-4678-b849-04035bac945e",
   "metadata": {},
   "outputs": [
    {
     "data": {
      "text/plain": [
       "17    196443\n",
       "16    194758\n",
       "15    193223\n",
       "14    174399\n",
       "13    151194\n",
       "18    148349\n",
       "12    129529\n",
       "7     119519\n",
       "8     114888\n",
       "19    102907\n",
       "11    100907\n",
       "6      98232\n",
       "9      94932\n",
       "Name: Start_Hour, dtype: int64"
      ]
     },
     "execution_count": 29,
     "metadata": {},
     "output_type": "execute_result"
    }
   ],
   "source": [
    "# Hours with most accidents are in the afternoon, 12-6PM.\n",
    "    # The other bump is 6-9AM. These are commute times.\n",
    "    # The hours between 8PM and 5AM are quieter.\n",
    "sev_2[\"Start_Hour\"].value_counts().nlargest(13)\n",
    "# Trying sev_2[\"Start_Hour\"].value_counts().nlargest(3,\"Start_Hour\")"
   ]
  },
  {
   "cell_type": "code",
   "execution_count": 30,
   "id": "7d1f953c-df5e-4178-b1ca-bcbc0e3779c1",
   "metadata": {
    "tags": []
   },
   "outputs": [
    {
     "name": "stderr",
     "output_type": "stream",
     "text": [
      "C:\\Users\\cryst\\AppData\\Local\\Temp\\ipykernel_21324\\1299160197.py:1: SettingWithCopyWarning: \n",
      "A value is trying to be set on a copy of a slice from a DataFrame.\n",
      "Try using .loc[row_indexer,col_indexer] = value instead\n",
      "\n",
      "See the caveats in the documentation: https://pandas.pydata.org/pandas-docs/stable/user_guide/indexing.html#returning-a-view-versus-a-copy\n",
      "  sev_2[\"End_Hour\"] = sev_2.End_Time.dt.hour\n",
      "C:\\Users\\cryst\\AppData\\Local\\Temp\\ipykernel_21324\\1299160197.py:2: SettingWithCopyWarning: \n",
      "A value is trying to be set on a copy of a slice from a DataFrame.\n",
      "Try using .loc[row_indexer,col_indexer] = value instead\n",
      "\n",
      "See the caveats in the documentation: https://pandas.pydata.org/pandas-docs/stable/user_guide/indexing.html#returning-a-view-versus-a-copy\n",
      "  sev_2[\"Duration\"] =sev_2[\"End_Hour\"] - sev_2[\"Start_Hour\"]\n"
     ]
    }
   ],
   "source": [
    "sev_2[\"End_Hour\"] = sev_2.End_Time.dt.hour\n",
    "sev_2[\"Duration\"] =sev_2[\"End_Hour\"] - sev_2[\"Start_Hour\"]"
   ]
  },
  {
   "cell_type": "code",
   "execution_count": 31,
   "id": "220ce090-46b3-4772-9028-679c826d0d59",
   "metadata": {},
   "outputs": [
    {
     "data": {
      "image/png": "[encoded data removed]",
      "text/plain": [
       "<Figure size 432x288 with 1 Axes>"
      ]
     },
     "metadata": {},
     "output_type": "display_data"
    }
   ],
   "source": [
    "sns.boxplot(data=sev_2, x=\"Duration\")\n",
    "plt.show()"
   ]
  },
  {
   "cell_type": "code",
   "execution_count": 32,
   "id": "9aa40f66-ec9d-4005-9008-92ddeda38876",
   "metadata": {},
   "outputs": [
    {
     "name": "stderr",
     "output_type": "stream",
     "text": [
      "C:\\Users\\cryst\\AppData\\Local\\Temp\\ipykernel_21324\\3717487098.py:1: SettingWithCopyWarning: \n",
      "A value is trying to be set on a copy of a slice from a DataFrame.\n",
      "Try using .loc[row_indexer,col_indexer] = value instead\n",
      "\n",
      "See the caveats in the documentation: https://pandas.pydata.org/pandas-docs/stable/user_guide/indexing.html#returning-a-view-versus-a-copy\n",
      "  sev_2[\"Duration_Day\"] =sev_2[\"End_Time\"] - sev_2[\"Start_Time\"]\n"
     ]
    }
   ],
   "source": [
    "sev_2[\"Duration_Day\"] =sev_2[\"End_Time\"] - sev_2[\"Start_Time\"]"
   ]
  },
  {
   "cell_type": "code",
   "execution_count": 33,
   "id": "a9ab0814-4d55-41e6-82e2-62f8cb090937",
   "metadata": {},
   "outputs": [
    {
     "data": {
      "text/plain": [
       "count                      2532991\n",
       "mean     0 days 05:36:55.886205600\n",
       "std      6 days 01:31:06.896457201\n",
       "min                0 days 00:02:00\n",
       "25%                0 days 01:15:32\n",
       "50%                0 days 02:00:04\n",
       "75%                0 days 03:16:49\n",
       "max             1168 days 10:59:17\n",
       "Name: Duration_Day, dtype: object"
      ]
     },
     "execution_count": 33,
     "metadata": {},
     "output_type": "execute_result"
    }
   ],
   "source": [
    "# The mean accident in the category took 5 hours. The least\n",
    "    # took 2 minutes. The median as above of 2 hours is \n",
    "    # smaller than the mean possibly meaning a large time \n",
    "    # range. And the longest accident in the category could \n",
    "    # have been misrecorded.\n",
    "sev_2[\"Duration_Day\"].describe()"
   ]
  },
  {
   "cell_type": "code",
   "execution_count": 34,
   "id": "6ed21bc6-a28f-43d1-aeb3-f93ed80be306",
   "metadata": {},
   "outputs": [
    {
     "name": "stderr",
     "output_type": "stream",
     "text": [
      "C:\\Users\\cryst\\AppData\\Local\\Temp\\ipykernel_21324\\2377530358.py:2: SettingWithCopyWarning: \n",
      "A value is trying to be set on a copy of a slice from a DataFrame.\n",
      "Try using .loc[row_indexer,col_indexer] = value instead\n",
      "\n",
      "See the caveats in the documentation: https://pandas.pydata.org/pandas-docs/stable/user_guide/indexing.html#returning-a-view-versus-a-copy\n",
      "  sev_2[\"Start_Day\"] = sev_2.Start_Time.dt.day\n"
     ]
    },
    {
     "data": {
      "image/png": "[encoded data removed]",
      "text/plain": [
       "<Figure size 432x288 with 1 Axes>"
      ]
     },
     "metadata": {},
     "output_type": "display_data"
    }
   ],
   "source": [
    "# Except for the 31st, the amount of accidents has 0 slope.\n",
    "sev_2[\"Start_Day\"] = sev_2.Start_Time.dt.day\n",
    "sns.histplot(data=sev_2, x= \"Start_Day\")\n",
    "plt.show()"
   ]
  },
  {
   "cell_type": "code",
   "execution_count": 35,
   "id": "20dc1efd-6635-4259-808a-8fdae6ae6e4f",
   "metadata": {},
   "outputs": [
    {
     "name": "stderr",
     "output_type": "stream",
     "text": [
      "C:\\Users\\cryst\\AppData\\Local\\Temp\\ipykernel_21324\\2920452405.py:1: SettingWithCopyWarning: \n",
      "A value is trying to be set on a copy of a slice from a DataFrame.\n",
      "Try using .loc[row_indexer,col_indexer] = value instead\n",
      "\n",
      "See the caveats in the documentation: https://pandas.pydata.org/pandas-docs/stable/user_guide/indexing.html#returning-a-view-versus-a-copy\n",
      "  sev_2[\"Start_Dw\"] = sev_2.Start_Time.dt.day_name()\n"
     ]
    },
    {
     "data": {
      "text/plain": [
       "Text(0.5, 0, '')"
      ]
     },
     "execution_count": 35,
     "metadata": {},
     "output_type": "execute_result"
    },
    {
     "data": {
      "image/png": "[encoded data removed]",
      "text/plain": [
       "<Figure size 576x288 with 1 Axes>"
      ]
     },
     "metadata": {},
     "output_type": "display_data"
    }
   ],
   "source": [
    "sev_2[\"Start_Dw\"] = sev_2.Start_Time.dt.day_name()\n",
    "day_of_week_order = [\"Sunday\", \"Monday\", \"Tuesday\", \"Wednesday\",\n",
    "             \"Thursday\", \"Friday\", \"Saturday\"]\n",
    "plt.figure(figsize=(8,4))\n",
    "sns.countplot(data=sev_2, x= \"Start_Dw\", order= day_of_week_order)\n",
    "# ax.tick_params(axis='y', which='both', pad=60) label to graph\n",
    "plt.xlabel(\"\")"
   ]
  },
  {
   "cell_type": "code",
   "execution_count": 36,
   "id": "af41edeb-c319-4a05-a0f7-62622dc93b92",
   "metadata": {},
   "outputs": [],
   "source": [
    "# Not as many accidents of this severity happen on weekends. \n",
    "    # This could be because there are more people out due \n",
    "    # to work on the weekdays. There is a gradual increase \n",
    "    # in accidents through the workweek ending with Friday. \n",
    "    # Saturday had more  accidents than Sunday."
   ]
  },
  {
   "cell_type": "code",
   "execution_count": 37,
   "id": "94e2e923-938f-4741-9291-192c7eb061bd",
   "metadata": {},
   "outputs": [
    {
     "name": "stderr",
     "output_type": "stream",
     "text": [
      "C:\\Users\\cryst\\AppData\\Local\\Temp\\ipykernel_21324\\3165410759.py:9: SettingWithCopyWarning: \n",
      "A value is trying to be set on a copy of a slice from a DataFrame.\n",
      "Try using .loc[row_indexer,col_indexer] = value instead\n",
      "\n",
      "See the caveats in the documentation: https://pandas.pydata.org/pandas-docs/stable/user_guide/indexing.html#returning-a-view-versus-a-copy\n",
      "  sev_2[\"Start_Month\"] = sev_2.Start_Time.dt.month_name()\n"
     ]
    },
    {
     "data": {
      "text/plain": [
       "Text(0.5, 0, 'Accidents by month')"
      ]
     },
     "execution_count": 37,
     "metadata": {},
     "output_type": "execute_result"
    },
    {
     "data": {
      "image/png": "[encoded data removed]",
      "text/plain": [
       "<Figure size 792x360 with 1 Axes>"
      ]
     },
     "metadata": {},
     "output_type": "display_data"
    }
   ],
   "source": [
    "# The holiday season may have had an effect on travel from \n",
    "    # November to January and cold weather in winter. \n",
    "    # Summer break might have increased the amount of people \n",
    "    # outside in June.\n",
    "month_order = ['January', 'February', 'March', 'April', \n",
    "               'May', 'June', 'July', 'August', 'September',\n",
    "               'October', 'November', 'December']\n",
    "plt.figure(figsize=(11,5))\n",
    "sev_2[\"Start_Month\"] = sev_2.Start_Time.dt.month_name()\n",
    "# Ha ha! \"month_order\" as xticks.\n",
    "    # sns.countplot(data=sev_2, x= \"Start_Month\", order=month_order)\n",
    "sns.countplot(data=sev_2, x= \"Start_Month\", order=month_order)\n",
    "plt.xlabel(\"Accidents by month\")"
   ]
  },
  {
   "cell_type": "markdown",
   "id": "d15ac1d6-62ac-4207-a33d-4134ea5bcab3",
   "metadata": {},
   "source": [
    "##### Weather"
   ]
  },
  {
   "cell_type": "code",
   "execution_count": 49,
   "id": "abfbb68e-5747-4c50-a9b7-6b6cf88ef9a6",
   "metadata": {},
   "outputs": [
    {
     "data": {
      "text/html": [
       "<div>\n",
       "<style scoped>\n",
       "    .dataframe tbody tr th:only-of-type {\n",
       "        vertical-align: middle;\n",
       "    }\n",
       "\n",
       "    .dataframe tbody tr th {\n",
       "        vertical-align: top;\n",
       "    }\n",
       "\n",
       "    .dataframe thead th {\n",
       "        text-align: right;\n",
       "    }\n",
       "</style>\n",
       "<table border=\"1\" class=\"dataframe\">\n",
       "  <thead>\n",
       "    <tr style=\"text-align: right;\">\n",
       "      <th></th>\n",
       "      <th>ID</th>\n",
       "      <th>Severity</th>\n",
       "      <th>Temperature(F)</th>\n",
       "      <th>Wind_Chill(F)</th>\n",
       "      <th>Wind_Speed(mph)</th>\n",
       "      <th>Pressure(in)</th>\n",
       "      <th>Humidity(%)</th>\n",
       "      <th>Precipitation(in)</th>\n",
       "    </tr>\n",
       "  </thead>\n",
       "  <tbody>\n",
       "    <tr>\n",
       "      <th>0</th>\n",
       "      <td>A-1</td>\n",
       "      <td>3</td>\n",
       "      <td>42.1</td>\n",
       "      <td>36.1</td>\n",
       "      <td>10.4</td>\n",
       "      <td>29.76</td>\n",
       "      <td>58.0</td>\n",
       "      <td>0.00</td>\n",
       "    </tr>\n",
       "    <tr>\n",
       "      <th>1</th>\n",
       "      <td>A-2</td>\n",
       "      <td>2</td>\n",
       "      <td>36.9</td>\n",
       "      <td>NaN</td>\n",
       "      <td>NaN</td>\n",
       "      <td>29.68</td>\n",
       "      <td>91.0</td>\n",
       "      <td>0.02</td>\n",
       "    </tr>\n",
       "    <tr>\n",
       "      <th>2</th>\n",
       "      <td>A-3</td>\n",
       "      <td>2</td>\n",
       "      <td>36.0</td>\n",
       "      <td>NaN</td>\n",
       "      <td>NaN</td>\n",
       "      <td>29.70</td>\n",
       "      <td>97.0</td>\n",
       "      <td>0.02</td>\n",
       "    </tr>\n",
       "  </tbody>\n",
       "</table>\n",
       "</div>"
      ],
      "text/plain": [
       "    ID  Severity  Temperature(F)  Wind_Chill(F)  Wind_Speed(mph)  \\\n",
       "0  A-1         3            42.1           36.1             10.4   \n",
       "1  A-2         2            36.9            NaN              NaN   \n",
       "2  A-3         2            36.0            NaN              NaN   \n",
       "\n",
       "   Pressure(in)  Humidity(%)  Precipitation(in)  \n",
       "0         29.76         58.0               0.00  \n",
       "1         29.68         91.0               0.02  \n",
       "2         29.70         97.0               0.02  "
      ]
     },
     "execution_count": 49,
     "metadata": {},
     "output_type": "execute_result"
    }
   ],
   "source": [
    "A_weather = accidents[['ID','Severity','Temperature(F)' ,'Wind_Chill(F)','Wind_Speed(mph)' ,'Pressure(in)',\n",
    "                       'Humidity(%)' ,'Precipitation(in)']].copy()\n",
    "A_weather.head(3)"
   ]
  },
  {
   "cell_type": "code",
   "execution_count": 50,
   "id": "774f9b39-ac78-4add-b02a-349a9c0d6420",
   "metadata": {},
   "outputs": [
    {
     "data": {
      "text/plain": [
       "Wind_Chill(F)       -0.097459\n",
       "Temperature(F)      -0.045335\n",
       "Precipitation(in)    0.013845\n",
       "Humidity(%)          0.037802\n",
       "Pressure(in)         0.043883\n",
       "Wind_Speed(mph)      0.048382\n",
       "Severity             1.000000\n",
       "Name: Severity, dtype: float64"
      ]
     },
     "execution_count": 50,
     "metadata": {},
     "output_type": "execute_result"
    }
   ],
   "source": [
    "A_weather.corr()['Severity'].sort_values()"
   ]
  },
  {
   "cell_type": "code",
   "execution_count": 51,
   "id": "fa9fe025-9f1c-4082-9662-be825997bd2c",
   "metadata": {},
   "outputs": [
    {
     "data": {
      "text/plain": [
       "788"
      ]
     },
     "execution_count": 51,
     "metadata": {},
     "output_type": "execute_result"
    }
   ],
   "source": [
    "A_weather['Temperature(F)'].nunique()"
   ]
  },
  {
   "cell_type": "code",
   "execution_count": 52,
   "id": "c7d1b49c-f7a0-452c-b904-9492ab0c5471",
   "metadata": {},
   "outputs": [
    {
     "data": {
      "image/png": "[encoded data removed]",
      "text/plain": [
       "<Figure size 432x288 with 4 Axes>"
      ]
     },
     "metadata": {},
     "output_type": "display_data"
    }
   ],
   "source": [
    "fig, axs = plt.subplots(nrows=2, ncols=2)\n",
    "\n",
    "axs[0, 0].hist(data=A_weather, x='Temperature(F)' , histtype='bar', facecolor='g',rwidth=0.8)\n",
    "axs[0, 0].set_title('tem')\n",
    "\n",
    "axs[0, 1].hist(data=A_weather, x='Pressure(in)',  histtype='bar', facecolor='g',rwidth=0.8)\n",
    "axs[0, 1].set_title('pressure')\n",
    "\n",
    "axs[1, 0].hist(data=A_weather, x='Wind_Chill(F)', histtype='bar', rwidth=0.8)\n",
    "axs[1, 0].set_title('wind')\n",
    "\n",
    "axs[1, 1].hist(data=A_weather, x='Humidity(%)',  histtype='bar', rwidth=0.8)\n",
    "axs[1, 1].set_title('humidity')\n",
    "\n",
    "fig.tight_layout()\n",
    "plt.show()"
   ]
  },
  {
   "cell_type": "code",
   "execution_count": 53,
   "id": "5a50f724-ef56-4eaf-b103-8cc233ea1b20",
   "metadata": {
    "tags": []
   },
   "outputs": [
    {
     "data": {
      "image/png": "[encoded data removed]",
      "text/plain": [
       "<Figure size 432x288 with 1 Axes>"
      ]
     },
     "metadata": {},
     "output_type": "display_data"
    }
   ],
   "source": [
    "sns.histplot(data=A_weather, x='Wind_Chill(F)', binwidth=8)\n",
    "plt.show()"
   ]
  },
  {
   "cell_type": "code",
   "execution_count": 54,
   "id": "ae2bf47d-3e10-4e45-8a2b-298a6ae3f823",
   "metadata": {
    "tags": []
   },
   "outputs": [
    {
     "data": {
      "image/png": "[encoded data removed]",
      "text/plain": [
       "<Figure size 504x360 with 1 Axes>"
      ]
     },
     "metadata": {},
     "output_type": "display_data"
    }
   ],
   "source": [
    "plt.figure(figsize = (7,5))\n",
    "sns.barplot(x= 'Severity', y ='Wind_Chill(F)', data=A_weather , color=\"seagreen\")\n",
    "plt.title('relation between severity and temperature ')\n",
    "plt.xlabel('severity')\n",
    "plt.ylabel('tem')\n",
    "plt.show()"
   ]
  },
  {
   "cell_type": "code",
   "execution_count": 55,
   "id": "ce5b15ba-4a73-4099-8632-177f3a9d41cd",
   "metadata": {},
   "outputs": [
    {
     "data": {
      "text/html": [
       "<div>\n",
       "<style scoped>\n",
       "    .dataframe tbody tr th:only-of-type {\n",
       "        vertical-align: middle;\n",
       "    }\n",
       "\n",
       "    .dataframe tbody tr th {\n",
       "        vertical-align: top;\n",
       "    }\n",
       "\n",
       "    .dataframe thead th {\n",
       "        text-align: right;\n",
       "    }\n",
       "</style>\n",
       "<table border=\"1\" class=\"dataframe\">\n",
       "  <thead>\n",
       "    <tr style=\"text-align: right;\">\n",
       "      <th></th>\n",
       "      <th>ID</th>\n",
       "      <th>Severity</th>\n",
       "      <th>Crossing</th>\n",
       "      <th>Station</th>\n",
       "      <th>Traffic_Signal</th>\n",
       "      <th>Traffic_Calming</th>\n",
       "      <th>Stop</th>\n",
       "      <th>Junction</th>\n",
       "      <th>No_Exit</th>\n",
       "      <th>Railway</th>\n",
       "      <th>Turning_Loop</th>\n",
       "    </tr>\n",
       "  </thead>\n",
       "  <tbody>\n",
       "    <tr>\n",
       "      <th>0</th>\n",
       "      <td>A-1</td>\n",
       "      <td>3</td>\n",
       "      <td>False</td>\n",
       "      <td>False</td>\n",
       "      <td>False</td>\n",
       "      <td>False</td>\n",
       "      <td>False</td>\n",
       "      <td>False</td>\n",
       "      <td>False</td>\n",
       "      <td>False</td>\n",
       "      <td>False</td>\n",
       "    </tr>\n",
       "    <tr>\n",
       "      <th>1</th>\n",
       "      <td>A-2</td>\n",
       "      <td>2</td>\n",
       "      <td>False</td>\n",
       "      <td>False</td>\n",
       "      <td>False</td>\n",
       "      <td>False</td>\n",
       "      <td>False</td>\n",
       "      <td>False</td>\n",
       "      <td>False</td>\n",
       "      <td>False</td>\n",
       "      <td>False</td>\n",
       "    </tr>\n",
       "    <tr>\n",
       "      <th>2</th>\n",
       "      <td>A-3</td>\n",
       "      <td>2</td>\n",
       "      <td>False</td>\n",
       "      <td>False</td>\n",
       "      <td>False</td>\n",
       "      <td>False</td>\n",
       "      <td>False</td>\n",
       "      <td>True</td>\n",
       "      <td>False</td>\n",
       "      <td>False</td>\n",
       "      <td>False</td>\n",
       "    </tr>\n",
       "  </tbody>\n",
       "</table>\n",
       "</div>"
      ],
      "text/plain": [
       "    ID  Severity  Crossing  Station  Traffic_Signal  Traffic_Calming   Stop  \\\n",
       "0  A-1         3     False    False           False            False  False   \n",
       "1  A-2         2     False    False           False            False  False   \n",
       "2  A-3         2     False    False           False            False  False   \n",
       "\n",
       "   Junction  No_Exit  Railway  Turning_Loop  \n",
       "0     False    False    False         False  \n",
       "1     False    False    False         False  \n",
       "2      True    False    False         False  "
      ]
     },
     "execution_count": 55,
     "metadata": {},
     "output_type": "execute_result"
    }
   ],
   "source": [
    "A_road = accidents[['ID','Severity','Crossing','Station','Traffic_Signal','Traffic_Calming',\n",
    "                   'Stop','Junction','No_Exit','Railway','Turning_Loop']].copy()\n",
    "A_road.head(3)"
   ]
  },
  {
   "cell_type": "code",
   "execution_count": 56,
   "id": "1c78dc98-4ef0-4b6d-b2d1-a1711768057d",
   "metadata": {
    "tags": []
   },
   "outputs": [
    {
     "data": {
      "text/plain": [
       "Crossing          -0.035382\n",
       "Station           -0.018017\n",
       "Traffic_Signal    -0.012798\n",
       "Traffic_Calming   -0.003009\n",
       "Stop              -0.002536\n",
       "No_Exit           -0.002359\n",
       "Railway           -0.001747\n",
       "Junction           0.045928\n",
       "Severity           1.000000\n",
       "Turning_Loop            NaN\n",
       "Name: Severity, dtype: float64"
      ]
     },
     "execution_count": 56,
     "metadata": {},
     "output_type": "execute_result"
    }
   ],
   "source": [
    "A_road.corr()['Severity'].sort_values()"
   ]
  },
  {
   "cell_type": "code",
   "execution_count": 57,
   "id": "3f8f6bfb-2fab-41c6-8e7b-53a50656ed97",
   "metadata": {},
   "outputs": [
    {
     "data": {
      "image/png": "[encoded data removed]",
      "text/plain": [
       "<Figure size 432x288 with 1 Axes>"
      ]
     },
     "metadata": {},
     "output_type": "display_data"
    }
   ],
   "source": [
    "sns.countplot(data=A_road, x='Junction' )\n",
    "plt.show()"
   ]
  },
  {
   "cell_type": "markdown",
   "id": "39610044-b646-4a2f-a652-ebfe90000e60",
   "metadata": {},
   "source": [
    "**state**"
   ]
  },
  {
   "cell_type": "code",
   "execution_count": 58,
   "id": "658ba93b-e550-46be-9679-072f7361238a",
   "metadata": {},
   "outputs": [],
   "source": [
    "#state wise = sw\n",
    "sw_counts = accidents.groupby('State')['ID'].count().reset_index()\n",
    "sw_counts = sw_counts.sort_values(by = \"ID\",ascending=False)"
   ]
  },
  {
   "cell_type": "code",
   "execution_count": 59,
   "id": "2617d9d9-67e0-433f-8176-d1ddb988e82e",
   "metadata": {},
   "outputs": [
    {
     "data": {
      "image/png": "[encoded data removed]",
      "text/plain": [
       "<Figure size 1080x1440 with 1 Axes>"
      ]
     },
     "metadata": {},
     "output_type": "display_data"
    }
   ],
   "source": [
    "f, ax = plt.subplots(figsize=(15, 20))\n",
    "sns.barplot(y=\"State\", x=\"ID\", data=sw_counts)\n",
    "plt.show()"
   ]
  },
  {
   "cell_type": "code",
   "execution_count": 60,
   "id": "8d6994fa-00e7-48d5-ba7e-3c03cf6e38e6",
   "metadata": {},
   "outputs": [
    {
     "data": {
      "text/plain": [
       "Miami          106966\n",
       "Los Angeles     68956\n",
       "Orlando         54691\n",
       "Dallas          41979\n",
       "Houston         39448\n",
       "Name: City, dtype: int64"
      ]
     },
     "execution_count": 60,
     "metadata": {},
     "output_type": "execute_result"
    }
   ],
   "source": [
    "accidents_by_cities = accidents['City'].value_counts()\n",
    "accidents_by_cities[:5]\n",
    "# Top 5 cities by number of accidents"
   ]
  },
  {
   "cell_type": "code",
   "execution_count": 61,
   "id": "cc74f726-8c41-4e30-a90c-de5df25bf4e8",
   "metadata": {},
   "outputs": [
    {
     "data": {
      "image/png": "[encoded data removed]",
      "text/plain": [
       "<Figure size 576x288 with 1 Axes>"
      ]
     },
     "metadata": {},
     "output_type": "display_data"
    }
   ],
   "source": [
    "fig, ax = plt.subplots(figsize=(8,4))\n",
    "accidents_by_cities[:5].plot(kind='bar')\n",
    "ax.set(title = 'Top 5 cities By Number of Accidents',\n",
    "       xlabel = 'Cities',\n",
    "       ylabel = 'Accidents Count')\n",
    "plt.show()\n",
    "#Chart to Visualize Top 5 cities by number of accidents"
   ]
  },
  {
   "cell_type": "code",
   "execution_count": null,
   "id": "b533f901-f3cd-4a5d-b9dd-326847a02bec",
   "metadata": {},
   "outputs": [
    {
     "ename": "KeyboardInterrupt",
     "evalue": "",
     "output_type": "error",
     "traceback": [
      "\u001b[1;31m---------------------------------------------------------------------------\u001b[0m",
      "\u001b[1;31mKeyboardInterrupt\u001b[0m                         Traceback (most recent call last)",
      "Input \u001b[1;32mIn [62]\u001b[0m, in \u001b[0;36m<cell line: 3>\u001b[1;34m()\u001b[0m\n\u001b[0;32m      1\u001b[0m fig, axs \u001b[38;5;241m=\u001b[39m plt\u001b[38;5;241m.\u001b[39msubplots(nrows\u001b[38;5;241m=\u001b[39m\u001b[38;5;241m2\u001b[39m, ncols\u001b[38;5;241m=\u001b[39m\u001b[38;5;241m2\u001b[39m)\n\u001b[1;32m----> 3\u001b[0m \u001b[43maxs\u001b[49m\u001b[43m[\u001b[49m\u001b[38;5;241;43m0\u001b[39;49m\u001b[43m,\u001b[49m\u001b[43m \u001b[49m\u001b[38;5;241;43m0\u001b[39;49m\u001b[43m]\u001b[49m\u001b[38;5;241;43m.\u001b[39;49m\u001b[43mbar\u001b[49m\u001b[43m(\u001b[49m\u001b[43mdata\u001b[49m\u001b[38;5;241;43m=\u001b[39;49m\u001b[43mA_road\u001b[49m\u001b[43m,\u001b[49m\u001b[43m \u001b[49m\u001b[43mx\u001b[49m\u001b[38;5;241;43m=\u001b[39;49m\u001b[38;5;124;43m'\u001b[39;49m\u001b[38;5;124;43mJunction\u001b[39;49m\u001b[38;5;124;43m'\u001b[39;49m\u001b[43m,\u001b[49m\u001b[43mheight\u001b[49m\u001b[38;5;241;43m=\u001b[39;49m\u001b[38;5;241;43m6\u001b[39;49m\u001b[43m)\u001b[49m\n\u001b[0;32m      4\u001b[0m axs[\u001b[38;5;241m0\u001b[39m, \u001b[38;5;241m0\u001b[39m]\u001b[38;5;241m.\u001b[39mset_title(\u001b[38;5;124m'\u001b[39m\u001b[38;5;124mtem\u001b[39m\u001b[38;5;124m'\u001b[39m)\n\u001b[0;32m      6\u001b[0m axs[\u001b[38;5;241m0\u001b[39m, \u001b[38;5;241m1\u001b[39m]\u001b[38;5;241m.\u001b[39mbar(data\u001b[38;5;241m=\u001b[39mA_road, x\u001b[38;5;241m=\u001b[39m\u001b[38;5;124m'\u001b[39m\u001b[38;5;124mCrossing\u001b[39m\u001b[38;5;124m'\u001b[39m,height\u001b[38;5;241m=\u001b[39m\u001b[38;5;241m6\u001b[39m)\n",
      "File \u001b[1;32m~\\anaconda3\\lib\\site-packages\\matplotlib\\__init__.py:1438\u001b[0m, in \u001b[0;36m_preprocess_data.<locals>.inner\u001b[1;34m(ax, data, *args, **kwargs)\u001b[0m\n\u001b[0;32m   1434\u001b[0m \u001b[38;5;28;01mif\u001b[39;00m label_namer \u001b[38;5;129;01mand\u001b[39;00m \u001b[38;5;124m\"\u001b[39m\u001b[38;5;124mlabel\u001b[39m\u001b[38;5;124m\"\u001b[39m \u001b[38;5;129;01mnot\u001b[39;00m \u001b[38;5;129;01min\u001b[39;00m args_and_kwargs:\n\u001b[0;32m   1435\u001b[0m     new_kwargs[\u001b[38;5;124m\"\u001b[39m\u001b[38;5;124mlabel\u001b[39m\u001b[38;5;124m\"\u001b[39m] \u001b[38;5;241m=\u001b[39m _label_from_arg(\n\u001b[0;32m   1436\u001b[0m         args_and_kwargs\u001b[38;5;241m.\u001b[39mget(label_namer), auto_label)\n\u001b[1;32m-> 1438\u001b[0m \u001b[38;5;28;01mreturn\u001b[39;00m func(\u001b[38;5;241m*\u001b[39mnew_args, \u001b[38;5;241m*\u001b[39m\u001b[38;5;241m*\u001b[39mnew_kwargs)\n",
      "File \u001b[1;32m~\\anaconda3\\lib\\site-packages\\matplotlib\\axes\\_axes.py:2409\u001b[0m, in \u001b[0;36mAxes.bar\u001b[1;34m(self, x, height, width, bottom, align, **kwargs)\u001b[0m\n\u001b[0;32m   2407\u001b[0m     \u001b[38;5;28;01melif\u001b[39;00m orientation \u001b[38;5;241m==\u001b[39m \u001b[38;5;124m'\u001b[39m\u001b[38;5;124mhorizontal\u001b[39m\u001b[38;5;124m'\u001b[39m:\n\u001b[0;32m   2408\u001b[0m         r\u001b[38;5;241m.\u001b[39msticky_edges\u001b[38;5;241m.\u001b[39mx\u001b[38;5;241m.\u001b[39mappend(l)\n\u001b[1;32m-> 2409\u001b[0m     \u001b[38;5;28;43mself\u001b[39;49m\u001b[38;5;241;43m.\u001b[39;49m\u001b[43madd_patch\u001b[49m\u001b[43m(\u001b[49m\u001b[43mr\u001b[49m\u001b[43m)\u001b[49m\n\u001b[0;32m   2410\u001b[0m     patches\u001b[38;5;241m.\u001b[39mappend(r)\n\u001b[0;32m   2412\u001b[0m \u001b[38;5;28;01mif\u001b[39;00m xerr \u001b[38;5;129;01mis\u001b[39;00m \u001b[38;5;129;01mnot\u001b[39;00m \u001b[38;5;28;01mNone\u001b[39;00m \u001b[38;5;129;01mor\u001b[39;00m yerr \u001b[38;5;129;01mis\u001b[39;00m \u001b[38;5;129;01mnot\u001b[39;00m \u001b[38;5;28;01mNone\u001b[39;00m:\n",
      "File \u001b[1;32m~\\anaconda3\\lib\\site-packages\\matplotlib\\axes\\_base.py:2358\u001b[0m, in \u001b[0;36m_AxesBase.add_patch\u001b[1;34m(self, p)\u001b[0m\n\u001b[0;32m   2356\u001b[0m \u001b[38;5;28;01mif\u001b[39;00m p\u001b[38;5;241m.\u001b[39mget_clip_path() \u001b[38;5;129;01mis\u001b[39;00m \u001b[38;5;28;01mNone\u001b[39;00m:\n\u001b[0;32m   2357\u001b[0m     p\u001b[38;5;241m.\u001b[39mset_clip_path(\u001b[38;5;28mself\u001b[39m\u001b[38;5;241m.\u001b[39mpatch)\n\u001b[1;32m-> 2358\u001b[0m \u001b[38;5;28;43mself\u001b[39;49m\u001b[38;5;241;43m.\u001b[39;49m\u001b[43m_update_patch_limits\u001b[49m\u001b[43m(\u001b[49m\u001b[43mp\u001b[49m\u001b[43m)\u001b[49m\n\u001b[0;32m   2359\u001b[0m \u001b[38;5;28mself\u001b[39m\u001b[38;5;241m.\u001b[39m_children\u001b[38;5;241m.\u001b[39mappend(p)\n\u001b[0;32m   2360\u001b[0m p\u001b[38;5;241m.\u001b[39m_remove_method \u001b[38;5;241m=\u001b[39m \u001b[38;5;28mself\u001b[39m\u001b[38;5;241m.\u001b[39m_children\u001b[38;5;241m.\u001b[39mremove\n",
      "File \u001b[1;32m~\\anaconda3\\lib\\site-packages\\matplotlib\\axes\\_base.py:2382\u001b[0m, in \u001b[0;36m_AxesBase._update_patch_limits\u001b[1;34m(self, patch)\u001b[0m\n\u001b[0;32m   2380\u001b[0m     \u001b[38;5;28;01mreturn\u001b[39;00m\n\u001b[0;32m   2381\u001b[0m patch_trf \u001b[38;5;241m=\u001b[39m patch\u001b[38;5;241m.\u001b[39mget_transform()\n\u001b[1;32m-> 2382\u001b[0m updatex, updatey \u001b[38;5;241m=\u001b[39m \u001b[43mpatch_trf\u001b[49m\u001b[38;5;241;43m.\u001b[39;49m\u001b[43mcontains_branch_seperately\u001b[49m\u001b[43m(\u001b[49m\u001b[38;5;28;43mself\u001b[39;49m\u001b[38;5;241;43m.\u001b[39;49m\u001b[43mtransData\u001b[49m\u001b[43m)\u001b[49m\n\u001b[0;32m   2383\u001b[0m \u001b[38;5;28;01mif\u001b[39;00m \u001b[38;5;129;01mnot\u001b[39;00m (updatex \u001b[38;5;129;01mor\u001b[39;00m updatey):\n\u001b[0;32m   2384\u001b[0m     \u001b[38;5;28;01mreturn\u001b[39;00m\n",
      "File \u001b[1;32m~\\anaconda3\\lib\\site-packages\\matplotlib\\transforms.py:1424\u001b[0m, in \u001b[0;36mTransform.contains_branch_seperately\u001b[1;34m(self, other_transform)\u001b[0m\n\u001b[0;32m   1420\u001b[0m     \u001b[38;5;28;01mraise\u001b[39;00m \u001b[38;5;167;01mValueError\u001b[39;00m(\u001b[38;5;124m'\u001b[39m\u001b[38;5;124mcontains_branch_seperately only supports \u001b[39m\u001b[38;5;124m'\u001b[39m\n\u001b[0;32m   1421\u001b[0m                      \u001b[38;5;124m'\u001b[39m\u001b[38;5;124mtransforms with 2 output dimensions\u001b[39m\u001b[38;5;124m'\u001b[39m)\n\u001b[0;32m   1422\u001b[0m \u001b[38;5;66;03m# for a non-blended transform each separate dimension is the same, so\u001b[39;00m\n\u001b[0;32m   1423\u001b[0m \u001b[38;5;66;03m# just return the appropriate shape.\u001b[39;00m\n\u001b[1;32m-> 1424\u001b[0m \u001b[38;5;28;01mreturn\u001b[39;00m [\u001b[38;5;28;43mself\u001b[39;49m\u001b[38;5;241;43m.\u001b[39;49m\u001b[43mcontains_branch\u001b[49m\u001b[43m(\u001b[49m\u001b[43mother_transform\u001b[49m\u001b[43m)\u001b[49m] \u001b[38;5;241m*\u001b[39m \u001b[38;5;241m2\u001b[39m\n",
      "File \u001b[1;32m~\\anaconda3\\lib\\site-packages\\matplotlib\\transforms.py:1403\u001b[0m, in \u001b[0;36mTransform.contains_branch\u001b[1;34m(self, other)\u001b[0m\n\u001b[0;32m   1400\u001b[0m     \u001b[38;5;28;01mreturn\u001b[39;00m \u001b[38;5;28;01mFalse\u001b[39;00m\n\u001b[0;32m   1402\u001b[0m \u001b[38;5;66;03m# check that a subtree is equal to other (starting from self)\u001b[39;00m\n\u001b[1;32m-> 1403\u001b[0m \u001b[38;5;28;01mfor\u001b[39;00m _, sub_tree \u001b[38;5;129;01min\u001b[39;00m \u001b[38;5;28mself\u001b[39m\u001b[38;5;241m.\u001b[39m_iter_break_from_left_to_right():\n\u001b[0;32m   1404\u001b[0m     \u001b[38;5;28;01mif\u001b[39;00m sub_tree \u001b[38;5;241m==\u001b[39m other:\n\u001b[0;32m   1405\u001b[0m         \u001b[38;5;28;01mreturn\u001b[39;00m \u001b[38;5;28;01mTrue\u001b[39;00m\n",
      "File \u001b[1;32m~\\anaconda3\\lib\\site-packages\\matplotlib\\transforms.py:2403\u001b[0m, in \u001b[0;36mCompositeGenericTransform._iter_break_from_left_to_right\u001b[1;34m(self)\u001b[0m\n\u001b[0;32m   2402\u001b[0m \u001b[38;5;28;01mdef\u001b[39;00m \u001b[38;5;21m_iter_break_from_left_to_right\u001b[39m(\u001b[38;5;28mself\u001b[39m):\n\u001b[1;32m-> 2403\u001b[0m     \u001b[38;5;28;01mfor\u001b[39;00m left, right \u001b[38;5;129;01min\u001b[39;00m \u001b[38;5;28mself\u001b[39m\u001b[38;5;241m.\u001b[39m_a\u001b[38;5;241m.\u001b[39m_iter_break_from_left_to_right():\n\u001b[0;32m   2404\u001b[0m         \u001b[38;5;28;01myield\u001b[39;00m left, right \u001b[38;5;241m+\u001b[39m \u001b[38;5;28mself\u001b[39m\u001b[38;5;241m.\u001b[39m_b\n\u001b[0;32m   2405\u001b[0m     \u001b[38;5;28;01mfor\u001b[39;00m left, right \u001b[38;5;129;01min\u001b[39;00m \u001b[38;5;28mself\u001b[39m\u001b[38;5;241m.\u001b[39m_b\u001b[38;5;241m.\u001b[39m_iter_break_from_left_to_right():\n",
      "File \u001b[1;32m~\\anaconda3\\lib\\site-packages\\matplotlib\\transforms.py:2403\u001b[0m, in \u001b[0;36mCompositeGenericTransform._iter_break_from_left_to_right\u001b[1;34m(self)\u001b[0m\n\u001b[0;32m   2402\u001b[0m \u001b[38;5;28;01mdef\u001b[39;00m \u001b[38;5;21m_iter_break_from_left_to_right\u001b[39m(\u001b[38;5;28mself\u001b[39m):\n\u001b[1;32m-> 2403\u001b[0m     \u001b[38;5;28;01mfor\u001b[39;00m left, right \u001b[38;5;129;01min\u001b[39;00m \u001b[38;5;28mself\u001b[39m\u001b[38;5;241m.\u001b[39m_a\u001b[38;5;241m.\u001b[39m_iter_break_from_left_to_right():\n\u001b[0;32m   2404\u001b[0m         \u001b[38;5;28;01myield\u001b[39;00m left, right \u001b[38;5;241m+\u001b[39m \u001b[38;5;28mself\u001b[39m\u001b[38;5;241m.\u001b[39m_b\n\u001b[0;32m   2405\u001b[0m     \u001b[38;5;28;01mfor\u001b[39;00m left, right \u001b[38;5;129;01min\u001b[39;00m \u001b[38;5;28mself\u001b[39m\u001b[38;5;241m.\u001b[39m_b\u001b[38;5;241m.\u001b[39m_iter_break_from_left_to_right():\n",
      "File \u001b[1;32m~\\anaconda3\\lib\\site-packages\\matplotlib\\transforms.py:1373\u001b[0m, in \u001b[0;36mTransform._iter_break_from_left_to_right\u001b[1;34m(self)\u001b[0m\n\u001b[0;32m   1363\u001b[0m \u001b[38;5;28;01mdef\u001b[39;00m \u001b[38;5;21m_iter_break_from_left_to_right\u001b[39m(\u001b[38;5;28mself\u001b[39m):\n\u001b[0;32m   1364\u001b[0m     \u001b[38;5;124;03m\"\"\"\u001b[39;00m\n\u001b[0;32m   1365\u001b[0m \u001b[38;5;124;03m    Return an iterator breaking down this transform stack from left to\u001b[39;00m\n\u001b[0;32m   1366\u001b[0m \u001b[38;5;124;03m    right recursively. If self == ((A, N), A) then the result will be an\u001b[39;00m\n\u001b[1;32m   (...)\u001b[0m\n\u001b[0;32m   1371\u001b[0m \u001b[38;5;124;03m    ``flat_stack[:i], flat_stack[i:]`` where i=0..(n-1).\u001b[39;00m\n\u001b[0;32m   1372\u001b[0m \u001b[38;5;124;03m    \"\"\"\u001b[39;00m\n\u001b[1;32m-> 1373\u001b[0m     \u001b[38;5;28;01myield\u001b[39;00m \u001b[43mIdentityTransform\u001b[49m\u001b[43m(\u001b[49m\u001b[43m)\u001b[49m, \u001b[38;5;28mself\u001b[39m\n",
      "File \u001b[1;32m~\\anaconda3\\lib\\site-packages\\matplotlib\\transforms.py:1784\u001b[0m, in \u001b[0;36mAffineBase.__init__\u001b[1;34m(self, *args, **kwargs)\u001b[0m\n\u001b[0;32m   1783\u001b[0m \u001b[38;5;28;01mdef\u001b[39;00m \u001b[38;5;21m__init__\u001b[39m(\u001b[38;5;28mself\u001b[39m, \u001b[38;5;241m*\u001b[39margs, \u001b[38;5;241m*\u001b[39m\u001b[38;5;241m*\u001b[39mkwargs):\n\u001b[1;32m-> 1784\u001b[0m     \u001b[38;5;28;43msuper\u001b[39;49m()\u001b[38;5;241m.\u001b[39m\u001b[38;5;21m__init__\u001b[39m(\u001b[38;5;241m*\u001b[39margs, \u001b[38;5;241m*\u001b[39m\u001b[38;5;241m*\u001b[39mkwargs)\n\u001b[0;32m   1785\u001b[0m     \u001b[38;5;28mself\u001b[39m\u001b[38;5;241m.\u001b[39m_inverted \u001b[38;5;241m=\u001b[39m \u001b[38;5;28;01mNone\u001b[39;00m\n",
      "\u001b[1;31mKeyboardInterrupt\u001b[0m: "
     ]
    }
   ],
   "source": [
    "fig, axs = plt.subplots(nrows=2, ncols=2)\n",
    "\n",
    "axs[0, 0].bar(data=A_road, x='Junction',height=6)\n",
    "axs[0, 0].set_title('tem')\n",
    "\n",
    "axs[0, 1].bar(data=A_road, x='Crossing',height=6)\n",
    "axs[0, 1].set_title('pressure')\n",
    "\n",
    "axs[1, 0].bar(data=A_weather, x='Railway',height=6)\n",
    "axs[1, 0].set_title('wind')\n",
    "\n",
    "axs[1, 1].bar(data=A_weather, x='No_Exit',height=6)\n",
    "axs[1, 1].set_title('humidity')\n",
    "\n",
    "fig.tight_layout()\n",
    "plt.show()"
   ]
  },
  {
   "cell_type": "code",
   "execution_count": null,
   "id": "52982723-37e7-4f8c-9f8c-7d6eacf64746",
   "metadata": {},
   "outputs": [],
   "source": []
  }
 ],
 "metadata": {
  "kernelspec": {
   "display_name": "Python 3 (ipykernel)",
   "language": "python",
   "name": "python3"
  },
  "language_info": {
   "codemirror_mode": {
    "name": "ipython",
    "version": 3
   },
   "file_extension": ".py",
   "mimetype": "text/x-python",
   "name": "python",
   "nbconvert_exporter": "python",
   "pygments_lexer": "ipython3",
   "version": "3.9.12"
  }
 },
 "nbformat": 4,
 "nbformat_minor": 5
}
